{
 "cells": [
  {
   "cell_type": "code",
   "execution_count": null,
   "metadata": {},
   "outputs": [],
   "source": [
    "# Downgrade NumPy\n",
    "!pip install numpy==1.23.5  \n",
    "\n",
    "# Importing Libraries\n",
    "!pip install decision-tree-id3\n",
    "import matplotlib.pyplot as plt\n",
    "import pandas as pd\n",
    "from sklearn.preprocessing import LabelEncoder\n",
    "from sklearn.model_selection import train_test_split\n",
    "from sklearn import tree\n",
    "from sklearn.metrics import classification_report, accuracy_score\n",
    "import six\n",
    "import sys\n",
    "sys.modules['sklearn.externals.six'] = six\n",
    "from id3 import Id3Estimator\n",
    "\n",
    "tenis_data = pd.read_csv(\"PlayTennis.csv\")\n",
    "\n",
    "Le = LabelEncoder()\n",
    "for column in ['Outlook', 'Temperature', 'Humidity', 'Wind', 'Play Tennis']:\n",
    "    tenis_data[column] = Le.fit_transform(tenis_data[column])\n",
    "\n",
    "y = tenis_data['Play Tennis']\n",
    "x = tenis_data.drop(['Play Tennis'], axis=1)\n",
    "\n",
    "x_train, x_test, y_train, y_test = train_test_split(x, y, test_size=0.9, random_state=0)\n",
    "\n",
    "clf = tree.DecisionTreeClassifier(criterion='entropy')\n",
    "clf = clf.fit(x_train, y_train)\n",
    "clf.fit(x, y)\n",
    "\n",
    "fig, ax = plt.subplots(figsize=(10, 10))\n",
    "tree.plot_tree(clf, fontsize=10)\n",
    "plt.show()\n",
    "\n",
    "x_pred = clf.predict(x_test)\n",
    "\n",
    "estimator = Id3Estimator(min_entropy_decrease=0.0)\n",
    "estimator.fit(x_train, y_train)\n",
    "x_pred = estimator.predict(x_test)\n",
    "\n",
    "print(\"Classification Report:\\n\", classification_report(y_test, x_pred))\n",
    "print(\"Model Accuracy:\", accuracy_score(y_test, x_pred))"
   ]
  }
 ],
 "metadata": {
  "kernelspec": {
   "display_name": "Python 3",
   "language": "python",
   "name": "python3"
  },
  "language_info": {
   "codemirror_mode": {
    "name": "ipython",
    "version": 3
   },
   "file_extension": ".py",
   "mimetype": "text/x-python",
   "name": "python",
   "nbconvert_exporter": "python",
   "pygments_lexer": "ipython3",
   "version": "3.13.2"
  }
 },
 "nbformat": 4,
 "nbformat_minor": 2
}
