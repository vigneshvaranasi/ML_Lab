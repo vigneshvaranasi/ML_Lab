{
 "cells": [
  {
   "cell_type": "markdown",
   "metadata": {},
   "source": [
    "## Importing Libraries"
   ]
  },
  {
   "cell_type": "code",
   "execution_count": 310,
   "metadata": {},
   "outputs": [],
   "source": [
    "import numpy as np\n",
    "import matplotlib.pyplot as plt\n",
    "import pandas as pd"
   ]
  },
  {
   "cell_type": "code",
   "execution_count": 311,
   "metadata": {},
   "outputs": [
    {
     "name": "stdout",
     "output_type": "stream",
     "text": [
      "[[1 'Vignesh' 20.0 'Male' 50000.0 'India']\n",
      " [2 'Dhanush' 34.0 'Male' 60000.0 'USA']\n",
      " [3 'Eswar' nan 'Male' 45000.0 'UK']\n",
      " [4 'Sirisha' 29.0 'Female' nan 'India']\n",
      " [5 'Fakruddin' 40.0 'Male' 70000.0 'UK']\n",
      " [6 'Harshitha' 22.0 'Female' 38000.0 'USA']\n",
      " [7 'Sumanth' 35.0 'Male' 52000.0 'India']\n",
      " [8 'Anusha' 27.0 'Female' 48000.0 'UK']\n",
      " [9 'Afzal' 30.0 'Male' nan 'USA']\n",
      " [10 'Pavan' nan 'Male' 55000.0 'India']]\n",
      "['Male' 'Male' 'Male' 'Female' 'Male' 'Female' 'Male' 'Female' 'Male'\n",
      " 'Male']\n"
     ]
    }
   ],
   "source": [
    "dataset = pd.read_csv('Preprocessing.csv')\n",
    "x = dataset.iloc[:, :].values\n",
    "y = dataset.iloc[:, 3].values\n",
    "print(x)\n",
    "print(y)"
   ]
  },
  {
   "cell_type": "markdown",
   "metadata": {},
   "source": [
    "## Handling Missing Values"
   ]
  },
  {
   "cell_type": "code",
   "execution_count": 312,
   "metadata": {},
   "outputs": [
    {
     "name": "stdout",
     "output_type": "stream",
     "text": [
      "Handling missing values for Age column\n",
      "[[1 'Vignesh' 20.0 'Male' 50000.0 'India']\n",
      " [2 'Dhanush' 34.0 'Male' 60000.0 'USA']\n",
      " [3 'Eswar' 29.625 'Male' 45000.0 'UK']\n",
      " [4 'Sirisha' 29.0 'Female' nan 'India']\n",
      " [5 'Fakruddin' 40.0 'Male' 70000.0 'UK']\n",
      " [6 'Harshitha' 22.0 'Female' 38000.0 'USA']\n",
      " [7 'Sumanth' 35.0 'Male' 52000.0 'India']\n",
      " [8 'Anusha' 27.0 'Female' 48000.0 'UK']\n",
      " [9 'Afzal' 30.0 'Male' nan 'USA']\n",
      " [10 'Pavan' 29.625 'Male' 55000.0 'India']]\n",
      "\n",
      "Handling missing values for Salary column\n",
      "[[1 'Vignesh' 20.0 'Male' 50000.0 'India']\n",
      " [2 'Dhanush' 34.0 'Male' 60000.0 'USA']\n",
      " [3 'Eswar' 29.625 'Male' 45000.0 'UK']\n",
      " [4 'Sirisha' 29.0 'Female' 52250.0 'India']\n",
      " [5 'Fakruddin' 40.0 'Male' 70000.0 'UK']\n",
      " [6 'Harshitha' 22.0 'Female' 38000.0 'USA']\n",
      " [7 'Sumanth' 35.0 'Male' 52000.0 'India']\n",
      " [8 'Anusha' 27.0 'Female' 48000.0 'UK']\n",
      " [9 'Afzal' 30.0 'Male' 52250.0 'USA']\n",
      " [10 'Pavan' 29.625 'Male' 55000.0 'India']]\n"
     ]
    }
   ],
   "source": [
    "from sklearn.impute import SimpleImputer\n",
    "\n",
    "# Select only the numeric columns for imputation\n",
    "\n",
    "# imputation for Age column\n",
    "imputer = SimpleImputer(missing_values=np.nan, strategy='mean')\n",
    "imputer.fit(x[:, 2:3])\n",
    "x[:, 2:3] = imputer.transform(x[:, 2:3])\n",
    "print(\"Handling missing values for Age column\")\n",
    "print(x)\n",
    "\n",
    "# imputation for Salary column\n",
    "imputer = SimpleImputer(missing_values=np.nan, strategy='mean')\n",
    "imputer.fit(x[:, 4:5])\n",
    "x[:, 4:5] = imputer.transform(x[:, 4:5])\n",
    "print(\"\\nHandling missing values for Salary column\")\n",
    "print(x)\n",
    "\n"
   ]
  },
  {
   "cell_type": "markdown",
   "metadata": {},
   "source": [
    "## Encoding Categorical data"
   ]
  },
  {
   "cell_type": "markdown",
   "metadata": {},
   "source": [
    "### Encoding Independent Variable"
   ]
  },
  {
   "cell_type": "code",
   "execution_count": 313,
   "metadata": {},
   "outputs": [
    {
     "name": "stdout",
     "output_type": "stream",
     "text": [
      "\n",
      "Encoding the Country column\n",
      "[[1.0 0.0 0.0 1 'Vignesh' 20.0 'Male' 50000.0]\n",
      " [0.0 0.0 1.0 2 'Dhanush' 34.0 'Male' 60000.0]\n",
      " [0.0 1.0 0.0 3 'Eswar' 29.625 'Male' 45000.0]\n",
      " [1.0 0.0 0.0 4 'Sirisha' 29.0 'Female' 52250.0]\n",
      " [0.0 1.0 0.0 5 'Fakruddin' 40.0 'Male' 70000.0]\n",
      " [0.0 0.0 1.0 6 'Harshitha' 22.0 'Female' 38000.0]\n",
      " [1.0 0.0 0.0 7 'Sumanth' 35.0 'Male' 52000.0]\n",
      " [0.0 1.0 0.0 8 'Anusha' 27.0 'Female' 48000.0]\n",
      " [0.0 0.0 1.0 9 'Afzal' 30.0 'Male' 52250.0]\n",
      " [1.0 0.0 0.0 10 'Pavan' 29.625 'Male' 55000.0]]\n"
     ]
    }
   ],
   "source": [
    "from sklearn.compose import ColumnTransformer\n",
    "from sklearn.preprocessing import OneHotEncoder\n",
    "ct = ColumnTransformer(transformers=[('encoder', OneHotEncoder(), [5])], remainder='passthrough')\n",
    "x = np.array(ct.fit_transform(x))\n",
    "print(\"\\nEncoding the Country column\")\n",
    "print(x)"
   ]
  },
  {
   "cell_type": "markdown",
   "metadata": {},
   "source": [
    "### Encoding Dependent Variable"
   ]
  },
  {
   "cell_type": "code",
   "execution_count": 314,
   "metadata": {},
   "outputs": [
    {
     "name": "stdout",
     "output_type": "stream",
     "text": [
      "\n",
      "Encoding the Purchased column\n",
      "[1 1 1 0 1 0 1 0 1 1]\n"
     ]
    }
   ],
   "source": [
    "from sklearn.preprocessing import LabelEncoder\n",
    "le = LabelEncoder()\n",
    "y = le.fit_transform(y)\n",
    "print(\"\\nEncoding the Purchased column\")\n",
    "print(y)"
   ]
  },
  {
   "cell_type": "markdown",
   "metadata": {},
   "source": [
    "## Split the dataset into the Training set and Test set"
   ]
  },
  {
   "cell_type": "code",
   "execution_count": 317,
   "metadata": {},
   "outputs": [
    {
     "name": "stdout",
     "output_type": "stream",
     "text": [
      "\n",
      "Splitting the dataset into training and testing sets\n",
      "x_train\n",
      "[[0.0 1.0 0.0 5 'Fakruddin' 40.0 'Male' 70000.0]\n",
      " [1.0 0.0 0.0 1 'Vignesh' 20.0 'Male' 50000.0]\n",
      " [1.0 0.0 0.0 4 'Sirisha' 29.0 'Female' 52250.0]\n",
      " [0.0 0.0 1.0 2 'Dhanush' 34.0 'Male' 60000.0]\n",
      " [0.0 1.0 0.0 8 'Anusha' 27.0 'Female' 48000.0]\n",
      " [0.0 0.0 1.0 9 'Afzal' 30.0 'Male' 52250.0]\n",
      " [0.0 0.0 1.0 6 'Harshitha' 22.0 'Female' 38000.0]]\n",
      "\n",
      "x_test\n",
      "[[0.0 1.0 0.0 3 'Eswar' 29.625 'Male' 45000.0]\n",
      " [1.0 0.0 0.0 10 'Pavan' 29.625 'Male' 55000.0]\n",
      " [1.0 0.0 0.0 7 'Sumanth' 35.0 'Male' 52000.0]]\n",
      "\n",
      "y_train\n",
      "[1 1 0 1 0 1 0]\n",
      "\n",
      "y_test\n",
      "[1 1 1]\n"
     ]
    }
   ],
   "source": [
    "from sklearn.model_selection import train_test_split\n",
    "x_train, x_test, y_train, y_test = train_test_split(x, y, test_size=0.3,random_state=1)\n",
    "print(\"\\nSplitting the dataset into training and testing sets\")\n",
    "print(\"x_train\")\n",
    "print(x_train)\n",
    "\n",
    "print(\"\\nx_test\")\n",
    "print(x_test)\n",
    "\n",
    "print(\"\\ny_train\")\n",
    "print(y_train)\n",
    "\n",
    "print(\"\\ny_test\")\n",
    "print(y_test)"
   ]
  }
 ],
 "metadata": {
  "kernelspec": {
   "display_name": "Python 3 (ipykernel)",
   "language": "python",
   "name": "python3"
  },
  "language_info": {
   "codemirror_mode": {
    "name": "ipython",
    "version": 3
   },
   "file_extension": ".py",
   "mimetype": "text/x-python",
   "name": "python",
   "nbconvert_exporter": "python",
   "pygments_lexer": "ipython3",
   "version": "3.12.7"
  }
 },
 "nbformat": 4,
 "nbformat_minor": 4
}
