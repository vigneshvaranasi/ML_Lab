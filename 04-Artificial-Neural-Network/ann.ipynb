{
 "cells": [
  {
   "cell_type": "code",
   "execution_count": 15,
   "metadata": {},
   "outputs": [],
   "source": [
    "import numpy as np"
   ]
  },
  {
   "cell_type": "code",
   "execution_count": 16,
   "metadata": {},
   "outputs": [],
   "source": [
    "def sigmoid(x):\n",
    "    return 1 / (1 + np.exp(-x))\n",
    "def sigmoid_derivative(x):\n",
    "    return x * (1 - x)"
   ]
  },
  {
   "cell_type": "markdown",
   "metadata": {},
   "source": [
    "### Read input from user\n",
    "- input data\n",
    "- no of hidden layers\n",
    "- no of output neurons\n",
    "- bias values"
   ]
  },
  {
   "cell_type": "code",
   "execution_count": 17,
   "metadata": {},
   "outputs": [
    {
     "name": "stdout",
     "output_type": "stream",
     "text": [
      "[array([1., 1.]), array([1.])]\n"
     ]
    }
   ],
   "source": [
    "input_data = np.array(input(\"Enter input data separated by commas: \").split(','), dtype=float)\n",
    "n_hidden_layers = int(input(\"Enter number of hidden layers: \"))\n",
    "n_output_neurons = int(input(\"Enter number of output neurons: \"))\n",
    "bias_values = []\n",
    "for i in range(n_hidden_layers+1):\n",
    "    bias_values.append(np.array(input(f\"Enter bias values for layer {i+1} separated by commas: \").split(','), dtype=float))\n",
    "\n",
    "print(bias_values)"
   ]
  },
  {
   "cell_type": "code",
   "execution_count": 18,
   "metadata": {},
   "outputs": [],
   "source": [
    "input_layer_size = input_data.shape[0]\n",
    "hidden_layer_sizes = []\n",
    "weights = []"
   ]
  },
  {
   "cell_type": "markdown",
   "metadata": {},
   "source": [
    "### Read input from user\n",
    "- no of neurons in hidden layers\n",
    "- weights for input layer to hidden layer\n",
    "- weights for hidden layer to output layer"
   ]
  },
  {
   "cell_type": "code",
   "execution_count": 19,
   "metadata": {},
   "outputs": [],
   "source": [
    "for i in range(n_hidden_layers):\n",
    "    hidden_layer_sizes.append(int(input(f\"Enter number of neurons in hidden layer {i+1}: \")))\n",
    "    if i == 0:\n",
    "        weights.append(np.array(input(f\"Enter weights for input layer to hidden layer {i+1} separated by commas: \").split(','), dtype=float).reshape(input_layer_size, hidden_layer_sizes[i]))\n",
    "    else:\n",
    "        weights.append(np.array(input(f\"Enter weights for hidden layer {i} to hidden layer {i+1} separated by commas: \").split(','), dtype=float).reshape(hidden_layer_sizes[i-1], hidden_layer_sizes[i]))\n",
    "weights.append(np.array(input(f\"Enter weights for hidden layer {n_hidden_layers} to output layer separated by commas: \").split(','), dtype=float).reshape(hidden_layer_sizes[-1], n_output_neurons))"
   ]
  },
  {
   "cell_type": "code",
   "execution_count": 20,
   "metadata": {},
   "outputs": [],
   "source": [
    "learning_rate = 0.5\n",
    "num_iterations = 1000"
   ]
  },
  {
   "cell_type": "code",
   "execution_count": 21,
   "metadata": {},
   "outputs": [],
   "source": [
    "target = np.array(input(f\"Enter target output separated by commas: \").split(','), dtype=float)"
   ]
  },
  {
   "cell_type": "markdown",
   "metadata": {},
   "source": [
    "### Train the Neural Network"
   ]
  },
  {
   "cell_type": "code",
   "execution_count": 22,
   "metadata": {},
   "outputs": [],
   "source": [
    "for i in range(num_iterations):\n",
    "\n",
    "    # Feedforward\n",
    "    hidden_layers = [input_data]\n",
    "    for j in range(len(hidden_layer_sizes)):\n",
    "        hidden_layer = sigmoid(np.dot(hidden_layers[j], weights[j]) + bias_values[j])\n",
    "        hidden_layers.append(hidden_layer)\n",
    "    output = sigmoid(np.dot(hidden_layers[-1], weights[-1]) + bias_values[-1])\n",
    "\n",
    "    # Backpropagation\n",
    "    error = output - target\n",
    "    delta = error * sigmoid_derivative(output)\n",
    "    deltas = [delta]\n",
    "    for j in range(len(hidden_layer_sizes)-1, -1, -1):\n",
    "        delta = np.dot(deltas[-1], weights[j+1].T) * sigmoid_derivative(hidden_layers[j+1])\n",
    "        deltas.append(delta)\n",
    "    deltas.reverse()\n",
    "\n",
    "    # Update weights and biases\n",
    "    for j in range(len(hidden_layer_sizes)+1):\n",
    "        if j == 0:\n",
    "            layer_input = input_data\n",
    "        else:\n",
    "            layer_input = hidden_layers[j]\n",
    "        dtran = np.transpose(deltas[j].reshape(-1,1))\n",
    "        x = np.dot(layer_input.reshape(-1,1), dtran)\n",
    "        weights[j] -= learning_rate * x"
   ]
  },
  {
   "cell_type": "code",
   "execution_count": 23,
   "metadata": {},
   "outputs": [
    {
     "name": "stdout",
     "output_type": "stream",
     "text": [
      "Final output: [0.10058976]\n",
      "Target output: [0.1]\n",
      "Layer 1 weights: [[0.17961918 0.22791518]\n",
      " [0.30923836 0.35583035]]\n",
      "Layer 2 weights: [[-2.17986882]\n",
      " [-2.1347936 ]]\n",
      "Layer 1 biases: [1. 1.]\n",
      "Layer 2 biases: [1.]\n"
     ]
    }
   ],
   "source": [
    "print(f\"Final output: {output}\")\n",
    "print(f\"Target output: {target}\")\n",
    "for i in range(len(weights)):\n",
    "    print(f\"Layer {i+1} weights: {weights[i]}\")\n",
    "for i in range(len(bias_values)):\n",
    "    print(f\"Layer {i+1} biases: {bias_values[i]}\")"
   ]
  },
  {
   "cell_type": "markdown",
   "metadata": {},
   "source": [
    "```\n",
    "input_data=0.05, 0.1\n",
    "n_hidden_layers=1\n",
    "n_output_nuerons=1\n",
    "biases_for_1 = 1,1\n",
    "biases_for_2 = 1\n",
    "n_hidden_nuerons = 2\n",
    "weights_for_input = 0.15,0.2,0.25,0.3\n",
    "weights_for_output = 0.4,0.45\n",
    "target_output = 0.1\n",
    "```"
   ]
  }
 ],
 "metadata": {
  "kernelspec": {
   "display_name": "base",
   "language": "python",
   "name": "python3"
  },
  "language_info": {
   "codemirror_mode": {
    "name": "ipython",
    "version": 3
   },
   "file_extension": ".py",
   "mimetype": "text/x-python",
   "name": "python",
   "nbconvert_exporter": "python",
   "pygments_lexer": "ipython3",
   "version": "3.12.7"
  }
 },
 "nbformat": 4,
 "nbformat_minor": 2
}
