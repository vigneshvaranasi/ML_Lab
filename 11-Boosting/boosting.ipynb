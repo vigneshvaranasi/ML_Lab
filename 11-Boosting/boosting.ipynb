{
 "cells": [
  {
   "cell_type": "code",
   "execution_count": 2,
   "metadata": {
    "executionInfo": {
     "elapsed": 15,
     "status": "ok",
     "timestamp": 1743612256935,
     "user": {
      "displayName": "22501A05J8 YARLAGADDA ESWAR ADITYA",
      "userId": "17459313569913767536"
     },
     "user_tz": -330
    },
    "id": "AZzEIb-NJ4LW"
   },
   "outputs": [],
   "source": [
    "import numpy as np\n",
    "import pandas as pd\n",
    "from sklearn.model_selection import train_test_split\n",
    "from sklearn.ensemble import AdaBoostClassifier"
   ]
  },
  {
   "cell_type": "code",
   "execution_count": 3,
   "metadata": {
    "executionInfo": {
     "elapsed": 12,
     "status": "ok",
     "timestamp": 1743612387582,
     "user": {
      "displayName": "22501A05J8 YARLAGADDA ESWAR ADITYA",
      "userId": "17459313569913767536"
     },
     "user_tz": -330
    },
    "id": "l5wpoYlOVxo0"
   },
   "outputs": [],
   "source": [
    "data = pd.read_csv('iris.csv')"
   ]
  },
  {
   "cell_type": "code",
   "execution_count": 4,
   "metadata": {
    "executionInfo": {
     "elapsed": 9,
     "status": "ok",
     "timestamp": 1743612431939,
     "user": {
      "displayName": "22501A05J8 YARLAGADDA ESWAR ADITYA",
      "userId": "17459313569913767536"
     },
     "user_tz": -330
    },
    "id": "RwCg9jtaZSY2"
   },
   "outputs": [],
   "source": [
    "x = data.iloc[:,:-1]\n",
    "y = data.iloc[:,-1]"
   ]
  },
  {
   "cell_type": "code",
   "execution_count": 5,
   "metadata": {
    "colab": {
     "base_uri": "https://localhost:8080/"
    },
    "executionInfo": {
     "elapsed": 9,
     "status": "ok",
     "timestamp": 1743612605201,
     "user": {
      "displayName": "22501A05J8 YARLAGADDA ESWAR ADITYA",
      "userId": "17459313569913767536"
     },
     "user_tz": -330
    },
    "id": "Fio2eF_BZkyd",
    "outputId": "c73ea2f5-f9da-4b1f-b61e-cb79fccab993"
   },
   "outputs": [
    {
     "data": {
      "text/plain": [
       "3"
      ]
     },
     "execution_count": 5,
     "metadata": {},
     "output_type": "execute_result"
    }
   ],
   "source": [
    "total_classes = y.nunique()\n",
    "total_classes"
   ]
  },
  {
   "cell_type": "code",
   "execution_count": 6,
   "metadata": {
    "colab": {
     "base_uri": "https://localhost:8080/",
     "height": 210
    },
    "executionInfo": {
     "elapsed": 49,
     "status": "ok",
     "timestamp": 1743612668100,
     "user": {
      "displayName": "22501A05J8 YARLAGADDA ESWAR ADITYA",
      "userId": "17459313569913767536"
     },
     "user_tz": -330
    },
    "id": "nh_WewsnaPGc",
    "outputId": "50f07e7b-7344-4442-8812-89872848a83e"
   },
   "outputs": [
    {
     "data": {
      "text/plain": [
       "variety\n",
       "Setosa        50\n",
       "Versicolor    50\n",
       "Virginica     50\n",
       "Name: count, dtype: int64"
      ]
     },
     "execution_count": 6,
     "metadata": {},
     "output_type": "execute_result"
    }
   ],
   "source": [
    "distribution = y.value_counts()\n",
    "distribution"
   ]
  },
  {
   "cell_type": "code",
   "execution_count": 7,
   "metadata": {
    "executionInfo": {
     "elapsed": 18,
     "status": "ok",
     "timestamp": 1743612730796,
     "user": {
      "displayName": "22501A05J8 YARLAGADDA ESWAR ADITYA",
      "userId": "17459313569913767536"
     },
     "user_tz": -330
    },
    "id": "1RD_CbEPaea-"
   },
   "outputs": [],
   "source": [
    "x_train,x_test,y_train,y_test = train_test_split(x,y,test_size=0.2,random_state=28)"
   ]
  },
  {
   "cell_type": "code",
   "execution_count": 8,
   "metadata": {
    "executionInfo": {
     "elapsed": 125,
     "status": "ok",
     "timestamp": 1743612787480,
     "user": {
      "displayName": "22501A05J8 YARLAGADDA ESWAR ADITYA",
      "userId": "17459313569913767536"
     },
     "user_tz": -330
    },
    "id": "iuHyuDvcatwy"
   },
   "outputs": [
    {
     "name": "stderr",
     "output_type": "stream",
     "text": [
      "c:\\Users\\varan\\anaconda3\\Lib\\site-packages\\sklearn\\ensemble\\_weight_boosting.py:527: FutureWarning: The SAMME.R algorithm (the default) is deprecated and will be removed in 1.6. Use the SAMME algorithm to circumvent this warning.\n",
      "  warnings.warn(\n"
     ]
    }
   ],
   "source": [
    "adb = AdaBoostClassifier()\n",
    "adb_model = adb.fit(x_train,y_train)"
   ]
  },
  {
   "cell_type": "code",
   "execution_count": 9,
   "metadata": {
    "colab": {
     "base_uri": "https://localhost:8080/"
    },
    "executionInfo": {
     "elapsed": 24,
     "status": "ok",
     "timestamp": 1743612827066,
     "user": {
      "displayName": "22501A05J8 YARLAGADDA ESWAR ADITYA",
      "userId": "17459313569913767536"
     },
     "user_tz": -330
    },
    "id": "x72quumua7jz",
    "outputId": "65d84e01-8ddf-43c3-a878-56088e031af3"
   },
   "outputs": [
    {
     "data": {
      "text/plain": [
       "0.9333333333333333"
      ]
     },
     "execution_count": 9,
     "metadata": {},
     "output_type": "execute_result"
    }
   ],
   "source": [
    "adb_model.score(x_test,y_test)"
   ]
  },
  {
   "cell_type": "code",
   "execution_count": 10,
   "metadata": {
    "colab": {
     "base_uri": "https://localhost:8080/",
     "height": 107
    },
    "executionInfo": {
     "elapsed": 87,
     "status": "ok",
     "timestamp": 1743612965955,
     "user": {
      "displayName": "22501A05J8 YARLAGADDA ESWAR ADITYA",
      "userId": "17459313569913767536"
     },
     "user_tz": -330
    },
    "id": "78iNUqKhbFQV",
    "outputId": "ad7a910e-3bc0-4592-a162-513fd39f75e4"
   },
   "outputs": [
    {
     "data": {
      "text/plain": [
       "'              precision    recall  f1-score   support\\n\\n      Setosa       1.00      1.00      1.00         9\\n  Versicolor       0.91      0.91      0.91        11\\n   Virginica       0.90      0.90      0.90        10\\n\\n    accuracy                           0.93        30\\n   macro avg       0.94      0.94      0.94        30\\nweighted avg       0.93      0.93      0.93        30\\n'"
      ]
     },
     "execution_count": 10,
     "metadata": {},
     "output_type": "execute_result"
    }
   ],
   "source": [
    "from sklearn.metrics import classification_report\n",
    "y_pred = adb_model.predict(x_test)\n",
    "classification_report(y_test,y_pred)"
   ]
  }
 ],
 "metadata": {
  "colab": {
   "authorship_tag": "ABX9TyOXDcgTGqU5pU4SGtq9hkoK",
   "provenance": []
  },
  "kernelspec": {
   "display_name": "base",
   "language": "python",
   "name": "python3"
  },
  "language_info": {
   "codemirror_mode": {
    "name": "ipython",
    "version": 3
   },
   "file_extension": ".py",
   "mimetype": "text/x-python",
   "name": "python",
   "nbconvert_exporter": "python",
   "pygments_lexer": "ipython3",
   "version": "3.12.7"
  }
 },
 "nbformat": 4,
 "nbformat_minor": 0
}
