{
 "cells": [
  {
   "cell_type": "markdown",
   "metadata": {},
   "source": [
    "01. Write a program to print the student details (Student name, Roll number, department and section)."
   ]
  },
  {
   "cell_type": "code",
   "execution_count": 1,
   "metadata": {},
   "outputs": [
    {
     "name": "stdout",
     "output_type": "stream",
     "text": [
      "Name: Vignesh\n",
      "Roll: 22501A05J1\n",
      "Branch: CSE\n",
      "Section: III\n"
     ]
    }
   ],
   "source": [
    "Sname=\"Vignesh\"\n",
    "Sroll=\"22501A05J1\"\n",
    "Sbranch=\"CSE\"\n",
    "Ssection=\"III\"\n",
    "\n",
    "print(\"Name:\",Sname)\n",
    "print(\"Roll:\",Sroll)\n",
    "print(\"Branch:\",Sbranch)\n",
    "print(\"Section:\",Ssection)"
   ]
  },
  {
   "cell_type": "markdown",
   "metadata": {},
   "source": [
    "02. Write a program to enter two integers and perform all arithmetic operations (Addition +, Subtraction -, multiplication *, Divide /, Modulus %)"
   ]
  },
  {
   "cell_type": "code",
   "execution_count": 3,
   "metadata": {},
   "outputs": [
    {
     "name": "stdout",
     "output_type": "stream",
     "text": [
      "First number is:  2\n",
      "Second number is:  5\n",
      "Sum of the 2 numbers is:  7\n",
      "Difference of the 2 numbers is:  -3\n",
      "Product of the 2 numbers is:  10\n",
      "Division of the 2 numbers is:  0.4\n",
      "Modulus of the 2 numbers is:  2\n"
     ]
    }
   ],
   "source": [
    "num1 = int(input(\"Enter first number: \"))\n",
    "num2 = int(input(\"Enter second number: \"))\n",
    "print(\"First number is: \", num1)\n",
    "print(\"Second number is: \", num2)\n",
    "sum = num1 + num2\n",
    "sub = num1 - num2\n",
    "mul = num1 * num2\n",
    "div = num1 / num2\n",
    "mod = num1 % num2\n",
    "print(\"Sum of the 2 numbers is: \", sum)\n",
    "print(\"Difference of the 2 numbers is: \", sub)\n",
    "print(\"Product of the 2 numbers is: \", mul)\n",
    "print(\"Division of the 2 numbers is: \", div)\n",
    "print(\"Modulus of the 2 numbers is: \", mod)"
   ]
  },
  {
   "cell_type": "markdown",
   "metadata": {},
   "source": [
    "03. Write a program to calculate area of circle and circumference of circle"
   ]
  },
  {
   "cell_type": "code",
   "execution_count": 5,
   "metadata": {},
   "outputs": [
    {
     "name": "stdout",
     "output_type": "stream",
     "text": [
      "Radius of the circle is:  5.0\n",
      "Area of the circle is:  78.5\n",
      "Circumference of the circle is:  31.400000000000002\n"
     ]
    }
   ],
   "source": [
    "r = float(input(\"Enter the radius of the circle: \"))\n",
    "print(\"Radius of the circle is: \", r)\n",
    "area = 3.14 * r * r\n",
    "circumference = 2 * 3.14 * r\n",
    "print(\"Area of the circle is: \", area)\n",
    "print(\"Circumference of the circle is: \", circumference)"
   ]
  },
  {
   "cell_type": "markdown",
   "metadata": {},
   "source": [
    "04. Write a program to swap two numbers without using third variable"
   ]
  },
  {
   "cell_type": "code",
   "execution_count": 6,
   "metadata": {},
   "outputs": [
    {
     "name": "stdout",
     "output_type": "stream",
     "text": [
      "Before swapping\n",
      "First number is:  3\n",
      "Second number is:  5\n",
      "After swapping\n",
      "First number is:  5\n",
      "Second number is:  3\n"
     ]
    }
   ],
   "source": [
    "num1 = int(input(\"Enter first number: \"))\n",
    "num2 = int(input(\"Enter second number: \"))\n",
    "\n",
    "print(\"Before swapping\")\n",
    "print(\"First number is: \", num1)\n",
    "print(\"Second number is: \", num2)\n",
    "\n",
    "temp = num1\n",
    "num1=num2\n",
    "num2=temp\n",
    "\n",
    "print(\"After swapping\")\n",
    "print(\"First number is: \", num1)\n",
    "print(\"Second number is: \", num2)"
   ]
  },
  {
   "cell_type": "markdown",
   "metadata": {},
   "source": [
    "05. Python program to display the given integer in reverse manner"
   ]
  },
  {
   "cell_type": "code",
   "execution_count": 9,
   "metadata": {},
   "outputs": [
    {
     "name": "stdout",
     "output_type": "stream",
     "text": [
      "Reverse of the number is:  90\n",
      "Reverse of the number is:  9\n"
     ]
    }
   ],
   "source": [
    "num1 = (input(\"Enter a number: \"))\n",
    "\n",
    "# Method 1\n",
    "rev = num1[::-1]\n",
    "print(\"Reverse of the number is: \", rev)\n",
    "\n",
    "# Method 2\n",
    "rev = 0\n",
    "temp = int(num1)\n",
    "while temp > 0:\n",
    "    rem = temp % 10\n",
    "    rev = rev * 10 + rem\n",
    "    temp = temp // 10\n",
    "    \n",
    "print(\"Reverse of the number is: \", rev)"
   ]
  },
  {
   "cell_type": "markdown",
   "metadata": {},
   "source": [
    "06. Python program to find the sum of the digits of an integer using while loop"
   ]
  },
  {
   "cell_type": "code",
   "execution_count": 10,
   "metadata": {},
   "outputs": [
    {
     "name": "stdout",
     "output_type": "stream",
     "text": [
      "Number is:  123\n",
      "Sum of the digits of the number is:  6\n",
      "Sum of the digits of the number is:  6\n"
     ]
    }
   ],
   "source": [
    "num1 = int(input(\"Enter a number to get their digit sum: \"))\n",
    "print(\"Number is: \", num1)\n",
    "\n",
    "# Method 1\n",
    "sum = 0\n",
    "temp = num1\n",
    "while temp > 0:\n",
    "    rem = temp % 10\n",
    "    sum = sum + rem\n",
    "    temp = temp // 10\n",
    "print(\"Sum of the digits of the number is: \", sum)\n",
    "\n",
    "\n",
    "# Method 2\n",
    "sum = 0\n",
    "for i in str(num1):\n",
    "    sum = sum + int(i)\n",
    "print(\"Sum of the digits of the number is: \", sum)"
   ]
  },
  {
   "cell_type": "markdown",
   "metadata": {},
   "source": [
    "07. Python program to print Fibonacci series using iteration"
   ]
  },
  {
   "cell_type": "code",
   "execution_count": 11,
   "metadata": {},
   "outputs": [
    {
     "name": "stdout",
     "output_type": "stream",
     "text": [
      "Fibonacci series is: \n",
      "0\n",
      "1\n"
     ]
    }
   ],
   "source": [
    "# Python program to print Fibonacci series using iteration\n",
    "n = int(input(\"Enter the number of terms: \"))\n",
    "a = 0\n",
    "b = 1\n",
    "print(\"Fibonacci series is: \")\n",
    "print(a)\n",
    "print(b)\n",
    "for i in range(2, n):\n",
    "    c = a + b\n",
    "    print(c)\n",
    "    a = b\n",
    "    b = c\n"
   ]
  },
  {
   "cell_type": "markdown",
   "metadata": {},
   "source": [
    "08. Python program to implement matrix addition and multiplication"
   ]
  },
  {
   "cell_type": "code",
   "execution_count": 2,
   "metadata": {},
   "outputs": [
    {
     "name": "stdout",
     "output_type": "stream",
     "text": [
      "Enter the elements of the first matrix: \n",
      "Enter the elements of the second matrix: \n",
      "First matrix is: \n",
      "1 2 \n",
      "3 4 \n",
      "Second matrix is: \n",
      "1 2 \n",
      "1 2 \n",
      "Resultant matrix after addition is: \n",
      "2 4 \n",
      "4 6 \n",
      "Resultant matrix after multiplication is: \n",
      "3 6 \n",
      "7 14 \n"
     ]
    }
   ],
   "source": [
    "r = int(input(\"Enter the number of rows: \"))\n",
    "c = int(input(\"Enter the number of columns: \"))\n",
    "matrix1 = []\n",
    "matrix2 = []\n",
    "\n",
    "print(\"Enter the elements of the first matrix: \")\n",
    "for i in range(r):\n",
    "    a = []\n",
    "    for j in range(c):\n",
    "        a.append(int(input()))\n",
    "    matrix1.append(a)\n",
    "    \n",
    "print(\"Enter the elements of the second matrix: \")\n",
    "for i in range(r):\n",
    "    a = []\n",
    "    for j in range(c):\n",
    "        a.append(int(input()))\n",
    "    matrix2.append(a)\n",
    "    \n",
    "print(\"First matrix is: \")\n",
    "for i in range(r):\n",
    "    for j in range(c):\n",
    "        print(matrix1[i][j], end=\" \")\n",
    "    print()\n",
    "\n",
    "print(\"Second matrix is: \")\n",
    "for i in range(r):\n",
    "    for j in range(c):\n",
    "        print(matrix2[i][j], end=\" \")\n",
    "    print()\n",
    "    \n",
    "# Matrix addition\n",
    "result = []\n",
    "for i in range(r):\n",
    "    a = []\n",
    "    for j in range(c):\n",
    "        a.append(matrix1[i][j] + matrix2[i][j])\n",
    "    result.append(a)\n",
    "    \n",
    "    \n",
    "print(\"Resultant matrix after addition is: \")\n",
    "for i in range(r):\n",
    "    for j in range(c):\n",
    "        print(result[i][j], end=\" \")\n",
    "    print()\n",
    "\n",
    "# Matrix multiplication\n",
    "result = []\n",
    "for i in range(r):\n",
    "    a = []\n",
    "    for j in range(c):\n",
    "        sum = 0\n",
    "        for k in range(c):\n",
    "            sum = sum + matrix1[i][k] * matrix2[k][j]\n",
    "        a.append(sum)\n",
    "    result.append(a)\n",
    "\n",
    "print(\"Resultant matrix after multiplication is: \")\n",
    "for i in range(r):\n",
    "    for j in range(c):\n",
    "        print(result[i][j], end=\" \")\n",
    "    print()"
   ]
  },
  {
   "cell_type": "markdown",
   "metadata": {},
   "source": [
    "09. Write a program to accept a string from the user and display characters that are present at an even index number."
   ]
  },
  {
   "cell_type": "code",
   "execution_count": 3,
   "metadata": {},
   "outputs": [
    {
     "name": "stdout",
     "output_type": "stream",
     "text": [
      "hlo"
     ]
    }
   ],
   "source": [
    "str = input(\"Enter a string: \")\n",
    "for i in range(0,len(str),2):\n",
    "    print(str[i], end=\"\")"
   ]
  },
  {
   "cell_type": "markdown",
   "metadata": {},
   "source": [
    "10. Write a program to swap two numbers using functions."
   ]
  },
  {
   "cell_type": "code",
   "execution_count": 5,
   "metadata": {},
   "outputs": [
    {
     "name": "stdout",
     "output_type": "stream",
     "text": [
      "Before swapping\n",
      "First number is:  10\n",
      "Second number is:  20\n",
      "After swapping\n",
      "First number is:  20\n",
      "Second number is:  10\n"
     ]
    }
   ],
   "source": [
    "def sawp(a,b):\n",
    "    a,b=b,a\n",
    "    return a,b\n",
    "\n",
    "\n",
    "a = int(input(\"Enter first number: \"))\n",
    "b = int(input(\"Enter second number: \"))\n",
    "\n",
    "print(\"Before swapping\")\n",
    "print(\"First number is: \", a)\n",
    "print(\"Second number is: \", b)\n",
    "\n",
    "a,b=sawp(a,b)\n",
    "\n",
    "print(\"After swapping\")\n",
    "print(\"First number is: \", a)\n",
    "print(\"Second number is: \", b)"
   ]
  },
  {
   "cell_type": "markdown",
   "metadata": {},
   "source": [
    "11. Write a program to calculate the GCD using recursive function"
   ]
  },
  {
   "cell_type": "code",
   "execution_count": 6,
   "metadata": {},
   "outputs": [
    {
     "name": "stdout",
     "output_type": "stream",
     "text": [
      "GCD of the two numbers is:  6\n"
     ]
    }
   ],
   "source": [
    "def gcd(a,b):\n",
    "    if b==0:\n",
    "        return a\n",
    "    else:\n",
    "        return gcd(b,a%b)\n",
    "\n",
    "a = int(input(\"Enter first number: \"))\n",
    "b = int(input(\"Enter second number: \"))\n",
    "print(\"GCD of the two numbers is: \", gcd(a,b))"
   ]
  },
  {
   "cell_type": "markdown",
   "metadata": {},
   "source": [
    "12. Write a program to calculate the Fibonacci Series using recursion"
   ]
  },
  {
   "cell_type": "code",
   "execution_count": 9,
   "metadata": {},
   "outputs": [
    {
     "name": "stdout",
     "output_type": "stream",
     "text": [
      "Fibonacci series is: \n",
      "0 1 1 2 3 "
     ]
    }
   ],
   "source": [
    "def fib(n):\n",
    "    if n<=1:\n",
    "        return n\n",
    "    else:\n",
    "        return fib(n-1)+fib(n-2)\n",
    "    \n",
    "n = int(input(\"Enter the number of terms: \"))\n",
    "print(\"Fibonacci series is: \")\n",
    "for i in range(n):\n",
    "    print(fib(i),end=\" \")"
   ]
  },
  {
   "cell_type": "markdown",
   "metadata": {},
   "source": [
    "13. Write a program to find the Armstrong Number"
   ]
  },
  {
   "cell_type": "code",
   "execution_count": null,
   "metadata": {},
   "outputs": [],
   "source": [
    "num = int(input(\"Enter a number: \"))\n",
    "sum = 0\n",
    "temp = num\n",
    "while temp > 0:\n",
    "    rem = temp % 10\n",
    "    sum = sum + rem ** 3\n",
    "    temp = temp // 10\n",
    "    \n",
    "if num == sum:\n",
    "    print(\"Armstrong number\")\n",
    "else:\n",
    "    print(\"Not an Armstrong number\")"
   ]
  }
 ],
 "metadata": {
  "kernelspec": {
   "display_name": "base",
   "language": "python",
   "name": "python3"
  },
  "language_info": {
   "codemirror_mode": {
    "name": "ipython",
    "version": 3
   },
   "file_extension": ".py",
   "mimetype": "text/x-python",
   "name": "python",
   "nbconvert_exporter": "python",
   "pygments_lexer": "ipython3",
   "version": "3.12.7"
  }
 },
 "nbformat": 4,
 "nbformat_minor": 2
}
