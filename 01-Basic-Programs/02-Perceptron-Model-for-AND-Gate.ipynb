{
 "cells": [
  {
   "cell_type": "code",
   "execution_count": 1,
   "metadata": {},
   "outputs": [],
   "source": [
    "import numpy as np"
   ]
  },
  {
   "cell_type": "markdown",
   "metadata": {},
   "source": [
    "### Define AND Gate Inputs and Outputs"
   ]
  },
  {
   "cell_type": "code",
   "execution_count": 2,
   "metadata": {},
   "outputs": [],
   "source": [
    "features = np.array([\n",
    "    [0, 0],\n",
    "    [0, 1],\n",
    "    [1, 0],\n",
    "    [1, 1]\n",
    "])\n",
    "labels = np.array([0, 0, 0, 1])"
   ]
  },
  {
   "cell_type": "markdown",
   "metadata": {},
   "source": [
    "### Initialize the network parameters"
   ]
  },
  {
   "cell_type": "code",
   "execution_count": 3,
   "metadata": {},
   "outputs": [],
   "source": [
    "epoch = int(input('Enter the Epochs: '))\n",
    "threshold = float(input('Enter the Threshold: '))\n",
    "learning_rate = float(input('Enter the Learning Rate: '))"
   ]
  },
  {
   "cell_type": "code",
   "execution_count": 4,
   "metadata": {},
   "outputs": [],
   "source": [
    "w = np.array([\n",
    "    float(input('Enter the weight for x0: ')),\n",
    "    float(input('Enter the weight for x1: '))\n",
    "])"
   ]
  },
  {
   "cell_type": "code",
   "execution_count": 5,
   "metadata": {},
   "outputs": [
    {
     "name": "stdout",
     "output_type": "stream",
     "text": [
      "Epoch: 0\n",
      "Actual Value: 0\n",
      "Instance: [0 0]\n",
      "X0: 0 X1: 0 Sum Value: 0.0\n",
      "global_delta: 0\n",
      "Prediction: 0, Actual: 0, Error: 0\n",
      "Actual Value: 0\n",
      "Instance: [0 1]\n",
      "X0: 0 X1: 1 Sum Value: 0.3\n",
      "global_delta: 0\n",
      "Prediction: 0, Actual: 0, Error: 0\n",
      "Actual Value: 0\n",
      "Instance: [1 0]\n",
      "X0: 1 X1: 0 Sum Value: 0.2\n",
      "global_delta: 0\n",
      "Prediction: 0, Actual: 0, Error: 0\n",
      "Actual Value: 1\n",
      "Instance: [1 1]\n",
      "X0: 1 X1: 1 Sum Value: 0.5\n",
      "global_delta: 1\n",
      "Prediction: 0, Actual: 1, Error: 1\n",
      "--------------------\n",
      "Epoch: 1\n",
      "Actual Value: 0\n",
      "Instance: [0 0]\n",
      "X0: 0 X1: 0 Sum Value: 0.0\n",
      "global_delta: 0\n",
      "Prediction: 0, Actual: 0, Error: 0\n",
      "Actual Value: 0\n",
      "Instance: [0 1]\n",
      "X0: 0 X1: 1 Sum Value: 0.4\n",
      "global_delta: 0\n",
      "Prediction: 0, Actual: 0, Error: 0\n",
      "Actual Value: 0\n",
      "Instance: [1 0]\n",
      "X0: 1 X1: 0 Sum Value: 0.30000000000000004\n",
      "global_delta: 0\n",
      "Prediction: 0, Actual: 0, Error: 0\n",
      "Actual Value: 1\n",
      "Instance: [1 1]\n",
      "X0: 1 X1: 1 Sum Value: 0.7000000000000001\n",
      "global_delta: 0\n",
      "Prediction: 1, Actual: 1, Error: 0\n",
      "--------------------\n"
     ]
    }
   ],
   "source": [
    "for j in range(epoch):\n",
    "    print(\"Epoch:\", j)\n",
    "    global_delta = 0\n",
    "\n",
    "    for i in range(features.shape[0]):\n",
    "        actual = labels[i]\n",
    "        print(\"Actual Value:\", actual)\n",
    "        instance = features[i]\n",
    "        print(\"Instance:\", instance)\n",
    "\n",
    "        x0 = instance[0]\n",
    "        x1 = instance[1]\n",
    "        sum_unit = x0 * w[0] + x1 * w[1]\n",
    "        print(\"X0:\", x0, \"X1:\", x1, \"Sum Value:\", sum_unit)\n",
    "\n",
    "        fire = 1 if sum_unit > threshold else 0\n",
    "\n",
    "        delta = actual - fire\n",
    "        global_delta += abs(delta)\n",
    "        print(\"global_delta:\", global_delta)\n",
    "\n",
    "        print(f\"Prediction: {fire}, Actual: {actual}, Error: {delta}\")\n",
    "\n",
    "        # Weight Update Rule: w_new = w_old + (delta * learning_rate)\n",
    "        w[0] = w[0] + delta * learning_rate\n",
    "        w[1] = w[1] + delta * learning_rate\n",
    "        \n",
    "    print(\"--------------------\")\n",
    "    if global_delta == 0:\n",
    "        break"
   ]
  },
  {
   "cell_type": "code",
   "execution_count": 6,
   "metadata": {},
   "outputs": [
    {
     "name": "stdout",
     "output_type": "stream",
     "text": [
      "Final Weights: [0.3 0.4]\n"
     ]
    }
   ],
   "source": [
    "print(\"Final Weights:\", w)"
   ]
  },
  {
   "cell_type": "markdown",
   "metadata": {},
   "source": [
    "#### Input after running\n",
    "```\n",
    "Enter the Epochs: 30\n",
    "Enter the Threshold: 0.3\n",
    "Enter the Learning Rate: 0.4\n",
    "Enter the weight for x0: 0.4\n",
    "Enter the weight for x1: 0.6\n",
    "```"
   ]
  },
  {
   "cell_type": "markdown",
   "metadata": {},
   "source": [
    "#### Input after running - Easy Output\n",
    "```\n",
    "Enter the Epochs: 10\n",
    "Enter the Threshold: 0.5\n",
    "Enter the Learning Rate: 0.1\n",
    "Enter the weight for x0: 0.2\n",
    "Enter the weight for x1: 0.3\n",
    "```"
   ]
  }
 ],
 "metadata": {
  "kernelspec": {
   "display_name": "base",
   "language": "python",
   "name": "python3"
  },
  "language_info": {
   "codemirror_mode": {
    "name": "ipython",
    "version": 3
   },
   "file_extension": ".py",
   "mimetype": "text/x-python",
   "name": "python",
   "nbconvert_exporter": "python",
   "pygments_lexer": "ipython3",
   "version": "3.12.7"
  }
 },
 "nbformat": 4,
 "nbformat_minor": 2
}
