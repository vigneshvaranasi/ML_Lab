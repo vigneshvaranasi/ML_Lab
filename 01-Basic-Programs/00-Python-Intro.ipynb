{
 "cells": [
  {
   "cell_type": "markdown",
   "metadata": {},
   "source": [
    "## Print Statements"
   ]
  },
  {
   "cell_type": "code",
   "execution_count": 2,
   "metadata": {},
   "outputs": [
    {
     "name": "stdout",
     "output_type": "stream",
     "text": [
      "Hello World\n",
      "The Value of num is 9\n",
      "1*2*3*4*5*6*7*8*9\n",
      "1#2#3#4#5#6#7#8#9&"
     ]
    }
   ],
   "source": [
    "print(\"Hello World\")\n",
    "num = 9\n",
    "print(\"The Value of num is\", num)\n",
    "\n",
    "print(1,2,3,4,5,6,7,8,9, sep='*')\n",
    "print(1,2,3,4,5,6,7,8,9, sep='#', end='&')\n",
    "\n"
   ]
  },
  {
   "cell_type": "markdown",
   "metadata": {},
   "source": [
    "## Variables"
   ]
  },
  {
   "cell_type": "code",
   "execution_count": 6,
   "metadata": {},
   "outputs": [
    {
     "name": "stdout",
     "output_type": "stream",
     "text": [
      "9 9.99 Nine\n",
      "Nine Nine Nine\n",
      "9 9.99 Nine\n"
     ]
    }
   ],
   "source": [
    "var1 = 9\n",
    "var2 =9.99\n",
    "var3 = \"Nine\"\n",
    "print(var1, var2, var3)\n",
    "\n",
    "var1 = var2 = var3 = \"Nine\"\n",
    "print(var1, var2, var3)\n",
    "\n",
    "var1, var2, var3 = 9, 9.99, \"Nine\"\n",
    "print(var1, var2, var3)"
   ]
  },
  {
   "cell_type": "markdown",
   "metadata": {},
   "source": [
    "## Input"
   ]
  },
  {
   "cell_type": "code",
   "execution_count": 7,
   "metadata": {},
   "outputs": [
    {
     "name": "stdout",
     "output_type": "stream",
     "text": [
      "Integer:  9\n",
      "Float:  9.09\n",
      "String:  Nine\n"
     ]
    }
   ],
   "source": [
    "inputInteger = int(input(\"Enter an Integer: \"))\n",
    "inputFloat = float(input(\"Enter a Float: \"))\n",
    "inputString = input(\"Enter a String: \")\n",
    "\n",
    "print(\"Integer: \", inputInteger)\n",
    "print(\"Float: \", inputFloat)\n",
    "print(\"String: \", inputString)"
   ]
  },
  {
   "cell_type": "markdown",
   "metadata": {},
   "source": [
    "## Datatypes"
   ]
  },
  {
   "cell_type": "code",
   "execution_count": 25,
   "metadata": {},
   "outputs": [
    {
     "name": "stdout",
     "output_type": "stream",
     "text": [
      "Numeric\n",
      "\n",
      "The type of num is <class 'int'>\n",
      "The type of num is <class 'float'>\n",
      "The type of num is <class 'complex'>\n",
      "\n",
      "String\n",
      "\n",
      "The type of str is <class 'str'>\n",
      "The length of str is 11\n",
      "First Character of str is H\n",
      "Last Character of str is d\n",
      "Substring of str is llo\n",
      "Print Twics Hello WorldHello World\n",
      "Concatenate Hello World!\n",
      "\n",
      "List\n",
      "\n",
      "The type of list is <class 'list'>\n",
      "The length of list is 5\n",
      "First Element of list is 1\n",
      "First Element of list is 9\n",
      "List after append [9, 2, 3, 4, 5, 6]\n",
      "List after remove [9, 2, 3, 4, 5]\n",
      "New List [9, 2, 3, 4, 5, 'a', 'b', 'c']\n",
      "\n",
      "Tuple\n",
      "\n",
      "The type of tuple is <class 'tuple'>\n",
      "The length of tuple is 5\n",
      "First Element of tuple is 1\n",
      "\n",
      "Dictionary\n",
      "\n",
      "The type of dict is <class 'dict'>\n",
      "The length of dict is 3\n",
      "Dictionary {1: 'a', 2: 'b', 3: 'c'}\n",
      "Value of key 1 is a\n",
      "Key 1 Value a\n",
      "Key 2 Value b\n",
      "Key 3 Value c\n"
     ]
    }
   ],
   "source": [
    "# 1. Numeric\n",
    "print(\"Numeric\\n\")\n",
    "num = 9\n",
    "print(\"The type of num is\", type(num))\n",
    "\n",
    "num = 9.99\n",
    "print(\"The type of num is\", type(num))\n",
    "\n",
    "num = 9+9j\n",
    "print(\"The type of num is\", type(num))\n",
    "\n",
    "# 2. Sequence Type\n",
    "# 2.1 String\n",
    "print(\"\\nString\\n\")\n",
    "str = \"Hello World\"\n",
    "print(\"The type of str is\", type(str))\n",
    "print(\"The length of str is\", len(str))\n",
    "print(\"First Character of str is\", str[0])\n",
    "print(\"Last Character of str is\", str[-1])\n",
    "print(\"Substring of str is\", str[2:5])\n",
    "print(\"Print Twics\", str*2)\n",
    "print(\"Concatenate\", str + \"!\")\n",
    "\n",
    "# 2.2 List\n",
    "print(\"\\nList\\n\")\n",
    "list = [1,2,3,4,5]\n",
    "print(\"The type of list is\", type(list))\n",
    "print(\"The length of list is\", len(list))\n",
    "print(\"First Element of list is\", list[0])\n",
    "list[0] = 9\n",
    "print(\"First Element of list is\", list[0])\n",
    "list.append(6)\n",
    "print(\"List after append\", list)\n",
    "list.remove(6)\n",
    "print(\"List after remove\", list)\n",
    "\n",
    "tempList = ['a','b','c']\n",
    "newList = list + tempList\n",
    "print(\"New List\", newList)\n",
    "\n",
    "# 2.3 Tuple\n",
    "print(\"\\nTuple\\n\")\n",
    "tuple = (1,2,3,4,5)\n",
    "print(\"The type of tuple is\", type(tuple))\n",
    "print(\"The length of tuple is\", len(tuple))\n",
    "print(\"First Element of tuple is\", tuple[0])\n",
    "# tuple[0] = 9 # error\n",
    "\n",
    "# 2.4 Dictionary\n",
    "print(\"\\nDictionary\\n\")\n",
    "dict = {1:'a', 2:'b', 3:'c'}\n",
    "print(\"The type of dict is\", type(dict))\n",
    "print(\"The length of dict is\", len(dict))\n",
    "print(\"Dictionary\", dict)\n",
    "print(\"Value of key 1 is\", dict[1])\n",
    "\n",
    "for key in dict:\n",
    "    print(\"Key\", key, \"Value\", dict[key])\n"
   ]
  },
  {
   "cell_type": "markdown",
   "metadata": {},
   "source": [
    "## Bulit-in Functions"
   ]
  },
  {
   "cell_type": "code",
   "execution_count": 28,
   "metadata": {},
   "outputs": [
    {
     "name": "stdout",
     "output_type": "stream",
     "text": [
      "Sum of Array 15\n",
      "Minimum of Array 1\n",
      "Maximum of Array 5\n",
      "Sorted Array [1, 2, 3, 4, 5]\n",
      "Length of Array 5\n",
      "Absolute Value 9\n",
      "Power 8\n",
      "Round 10\n",
      "Square Root 3.0\n",
      "Log 2.1972245773362196\n"
     ]
    }
   ],
   "source": [
    "print(\"Sum of Array\", sum([1,2,3,4,5]))\n",
    "print(\"Minimum of Array\", min([1,2,3,4,5]))\n",
    "print(\"Maximum of Array\", max([1,2,3,4,5]))\n",
    "print(\"Sorted Array\", sorted([5,4,3,2,1]))\n",
    "print(\"Length of Array\", len([1,2,3,4,5]))\n",
    "print(\"Absolute Value\", abs(-9))\n",
    "print(\"Power\", pow(2,3))\n",
    "print(\"Round\", round(9.99))\n",
    "\n",
    "import math\n",
    "print(\"Square Root\", math.sqrt(9))\n",
    "print(\"Log\", math.log(9))\n"
   ]
  },
  {
   "cell_type": "markdown",
   "metadata": {},
   "source": [
    "## Functions"
   ]
  },
  {
   "cell_type": "code",
   "execution_count": 34,
   "metadata": {},
   "outputs": [
    {
     "name": "stdout",
     "output_type": "stream",
     "text": [
      "Hello World\n",
      "Sum 18\n"
     ]
    }
   ],
   "source": [
    "def hello():\n",
    "    print(\"Hello World\")    \n",
    "\n",
    "hello()\n",
    "\n",
    "def add(a,b):\n",
    "    return a+b\n",
    "\n",
    "print(\"Sum\", add(9,9))"
   ]
  },
  {
   "cell_type": "markdown",
   "metadata": {},
   "source": [
    "## Numpy"
   ]
  },
  {
   "cell_type": "code",
   "execution_count": 65,
   "metadata": {},
   "outputs": [
    {
     "name": "stdout",
     "output_type": "stream",
     "text": [
      "Regular Matrix Addition [ 7  9 11 13 15]\n",
      "Broadcasting Matrix Addition [11 12 13 14 15]\n",
      "Regular Matrix Addition [[ 8 10 12]\n",
      " [14 16 18]]\n",
      "Matrix of Ones\n",
      " [[1. 1. 1. 1.]\n",
      " [1. 1. 1. 1.]\n",
      " [1. 1. 1. 1.]\n",
      " [1. 1. 1. 1.]]\n",
      "Matrix of Zeros\n",
      " [[0. 0. 0.]\n",
      " [0. 0. 0.]\n",
      " [0. 0. 0.]]\n",
      "Identity Matrix\n",
      " [[1. 0. 0.]\n",
      " [0. 1. 0.]\n",
      " [0. 0. 1.]]\n",
      "Second Row of b\n",
      " [10 11 12]\n",
      "Second Column of b\n",
      " [ 8 11]\n",
      "Shape of b (2, 3)\n",
      "Number of Elements in b 6\n",
      "Number of Dimensions in b 2\n",
      "Average of b 9.5\n",
      "Maximum Element of b 12\n",
      "Diagonal of b [ 7 11]\n",
      "Transpose of b\n",
      " [[ 7 10]\n",
      " [ 8 11]\n",
      " [ 9 12]]\n",
      "Flatten of b\n",
      " [ 7  8  9 10 11 12]\n",
      "Reshape of b\n",
      " [[ 7  8]\n",
      " [ 9 10]\n",
      " [11 12]]\n",
      "Matrix Addition\n",
      " [[ 6  8]\n",
      " [10 12]]\n",
      "Matrix Multiplication\n",
      " [[ 5 12]\n",
      " [21 32]]\n"
     ]
    }
   ],
   "source": [
    "import numpy as np\n",
    "\n",
    "a = np.array([1,2,3,4,5])\n",
    "b = np.array([6,7,8,9,10])\n",
    "\n",
    "print(\"Regular Matrix Addition\", a+b)\n",
    "print(\"Broadcasting Matrix Addition\", a+10)\n",
    "\n",
    "# 2d matrix\n",
    "a = np.array([[1,2,3],[4,5,6]])\n",
    "b = np.array([[7,8,9],[10,11,12]])\n",
    "\n",
    "print(\"Regular Matrix Addition\", a+b)\n",
    "\n",
    "a = np.ones((4,4))\n",
    "print(\"Matrix of Ones\\n\", a)\n",
    "print(\"Matrix of Zeros\\n\", np.zeros((3,3)))\n",
    "print(\"Identity Matrix\\n\", np.eye(3))\n",
    "\n",
    "print(\"Second Row of b\\n\", b[1,:])\n",
    "print(\"Second Column of b\\n\", b[:,1])\n",
    "\n",
    "\n",
    "# MAtrix Properties\n",
    "print(\"Shape of b\", b.shape)\n",
    "print(\"Number of Elements in b\", b.size)\n",
    "print(\"Number of Dimensions in b\", b.ndim)\n",
    "print(\"Average of b\", np.mean(b))\n",
    "print(\"Maximum Element of b\", np.max(b))\n",
    "print(\"Diagonal of b\", np.diag(b))\n",
    "\n",
    "\n",
    "# Matrix Operations\n",
    "print(\"Transpose of b\\n\", b.T)\n",
    "print(\"Flatten of b\\n\", b.flatten())\n",
    "print(\"Reshape of b\\n\", b.reshape(3,2))\n",
    "\n",
    "\n",
    "a = np.array([[1,2],[3,4]])\n",
    "b = np.array([[5,6],[7,8]])\n",
    "\n",
    "print(\"Matrix Addition\\n\", np.add(a,b))\n",
    "print(\"Matrix Multiplication\\n\", np.multiply(a,b))"
   ]
  }
 ],
 "metadata": {
  "kernelspec": {
   "display_name": "base",
   "language": "python",
   "name": "python3"
  },
  "language_info": {
   "codemirror_mode": {
    "name": "ipython",
    "version": 3
   },
   "file_extension": ".py",
   "mimetype": "text/x-python",
   "name": "python",
   "nbconvert_exporter": "python",
   "pygments_lexer": "ipython3",
   "version": "3.12.7"
  }
 },
 "nbformat": 4,
 "nbformat_minor": 2
}
